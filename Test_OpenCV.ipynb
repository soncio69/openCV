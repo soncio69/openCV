{
 "cells": [
  {
   "cell_type": "code",
   "execution_count": 2,
   "metadata": {},
   "outputs": [],
   "source": [
    "import cv2"
   ]
  },
  {
   "cell_type": "markdown",
   "metadata": {},
   "source": [
    "### Lettura immagine"
   ]
  },
  {
   "cell_type": "code",
   "execution_count": 6,
   "metadata": {},
   "outputs": [
    {
     "data": {
      "text/plain": [
       "-1"
      ]
     },
     "execution_count": 6,
     "metadata": {},
     "output_type": "execute_result"
    }
   ],
   "source": [
    "image = cv2.imread(\"cattura.jpg\")\n",
    "cv2.imshow(\"test\", image)\n",
    "cv2.waitKey(0)"
   ]
  },
  {
   "cell_type": "markdown",
   "metadata": {},
   "source": [
    "### Lettura Video\n",
    "Esiste un problema al termine del video. Probabilmente è dovuto all'utilizzo di notebook.\n",
    "Verificare in pycharm...."
   ]
  },
  {
   "cell_type": "code",
   "execution_count": 7,
   "metadata": {},
   "outputs": [],
   "source": [
    "capture = cv2.VideoCapture(\"20200909_120243.mp4\")\n",
    "\n",
    "while True:\n",
    "    success, img = capture.read()\n",
    "    cv2.imshow(\"video\", img)\n",
    "        \n",
    "    if cv2.waitKey(10) & 0xFF ==ord('q'):\n",
    "        break"
   ]
  },
  {
   "cell_type": "markdown",
   "metadata": {},
   "source": [
    "#### Lettura Webcam \n",
    "\n",
    "Anche in questo caso la lettura della webcam causa il crach del kernel"
   ]
  },
  {
   "cell_type": "code",
   "execution_count": null,
   "metadata": {},
   "outputs": [],
   "source": [
    "capture = cv2.VideoCapture(0)\n",
    "capture.set(3,640) # definisce witdh\n",
    "capture.set(4,480) # definisce height\n",
    "\n",
    "while True:\n",
    "    success, img = capture.read()\n",
    "    cv2.imshow(\"video\", img)\n",
    "        \n",
    "    if cv2.waitKey(10) & 0xFF ==ord('q'):\n",
    "        break"
   ]
  }
 ],
 "metadata": {
  "kernelspec": {
   "display_name": "Python 3",
   "language": "python",
   "name": "python3"
  },
  "language_info": {
   "codemirror_mode": {
    "name": "ipython",
    "version": 3
   },
   "file_extension": ".py",
   "mimetype": "text/x-python",
   "name": "python",
   "nbconvert_exporter": "python",
   "pygments_lexer": "ipython3",
   "version": "3.7.6"
  }
 },
 "nbformat": 4,
 "nbformat_minor": 4
}
