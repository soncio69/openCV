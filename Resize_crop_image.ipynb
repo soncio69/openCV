{
 "cells": [
  {
   "cell_type": "code",
   "execution_count": 8,
   "metadata": {},
   "outputs": [
    {
     "name": "stdout",
     "output_type": "stream",
     "text": [
      "(580, 769, 3)\n"
     ]
    },
    {
     "data": {
      "text/plain": [
       "-1"
      ]
     },
     "execution_count": 8,
     "metadata": {},
     "output_type": "execute_result"
    }
   ],
   "source": [
    "import cv2\n",
    "import numpy as np\n",
    "\n",
    "img = cv2.imread(\"cattura.jpg\")\n",
    "print(img.shape)  # Mostra altezza, larghezza e numero di canali\n",
    "imgResized = cv2.resize(img, (300, 200)) # larghezza + altezza\n",
    "\n",
    "cv2.imshow(\"img\", img)\n",
    "cv2.imshow(\"imgResized\", imgResized)\n",
    "\n",
    "cv2.waitKey(0)"
   ]
  },
  {
   "cell_type": "markdown",
   "metadata": {},
   "source": [
    "### Crop a image (ritaglio)\n",
    "Dal momento che na immagine non è altro  che un  array  di pixel, si utilizzano le matrici.\n",
    "Non è necessaria una funzione cv2"
   ]
  },
  {
   "cell_type": "code",
   "execution_count": 9,
   "metadata": {},
   "outputs": [
    {
     "data": {
      "text/plain": [
       "-1"
      ]
     },
     "execution_count": 9,
     "metadata": {},
     "output_type": "execute_result"
    }
   ],
   "source": [
    "imgCropped = img[0:200, 200:400]  # altezza + larghezza (il contrario rispetto alle funzioni cv2)\n",
    "\n",
    "cv2.imshow(\"imgCropped\", imgCropped)\n",
    "\n",
    "cv2.waitKey(0)"
   ]
  },
  {
   "cell_type": "code",
   "execution_count": 10,
   "metadata": {},
   "outputs": [],
   "source": [
    "### Disegnare forme e testi"
   ]
  },
  {
   "cell_type": "code",
   "execution_count": 23,
   "metadata": {},
   "outputs": [
    {
     "name": "stdout",
     "output_type": "stream",
     "text": [
      "(512, 512)\n",
      "(512, 512, 3)\n",
      "(512, 512, 3)\n"
     ]
    },
    {
     "data": {
      "text/plain": [
       "-1"
      ]
     },
     "execution_count": 23,
     "metadata": {},
     "output_type": "execute_result"
    }
   ],
   "source": [
    "superficie = np.zeros((512, 512))   # crea una  immagine nera : tutti  i pixel = 0 (bianchi sarebbero 1)\n",
    "print(superficie.shape) # si tratta di grayscale image in quanto abbiamo creato una matrice bi-dimensionale (senza il canale del colore)\n",
    "\n",
    "superficie = np.zeros((512, 512, 3), np.uint8)\n",
    "print(superficie.shape) # si tratta di BRG image in quanto abbiamo creato una matrice tri-dimensionale (con  canale)\n",
    "print(superficie.shape) \n",
    "\n",
    "## Per colorare l'intera superficie\n",
    "superficie[:]=255,0,0\n",
    "### èer colorare una porzione di imagine\n",
    "superficie[200:300,100:300 ]=255,255,0  # il primo range è l'altezza e il secondo la larghezza\n",
    "\n",
    "cv2.imshow(\"superficie\", superficie)\n",
    "\n",
    "\n",
    "cv2.waitKey(0)"
   ]
  },
  {
   "cell_type": "code",
   "execution_count": 37,
   "metadata": {},
   "outputs": [
    {
     "data": {
      "text/plain": [
       "-1"
      ]
     },
     "execution_count": 37,
     "metadata": {},
     "output_type": "execute_result"
    }
   ],
   "source": [
    "sup = np.zeros((512, 512, 3), np.uint8)   # crea una  immagine nera : tutti  i pixel = 0 (bianchi sarebbero 1)\n",
    "\n",
    "#cv2.line(sup, (0,0),(200, 200), (0,255,0), 3) # inizio - fine - colore - spessore\n",
    "cv2.line(sup, (0,0),(sup.shape[1], sup.shape[0]), (0,255,0), 3) # inizio - fine - colore - spessore\n",
    "cv2.rectangle(sup, (0,0), (250,250), (0,0,255), 4) # inizio e fine della diagonale - colore - spessore\n",
    "cv2.rectangle(sup, (sup.shape[1],sup.shape[0]), (sup.shape[1] - 250, sup.shape[0] - 250), (0,0,255), cv2.FILLED)\n",
    "cv2.circle(sup, (400, 100), 50, (255,255,0), 2) # centro - raggio - colore . spessore\n",
    "cv2.putText(sup, \"MICHELE\", (100,400), cv2.FONT_ITALIC, 1, (0,150, 0), 1) # testo - inizio - font - scala - colore - spessore\n",
    "\n",
    "cv2.imshow(\"superficie\", sup)\n",
    "cv2.waitKey(0)"
   ]
  },
  {
   "cell_type": "code",
   "execution_count": null,
   "metadata": {},
   "outputs": [],
   "source": []
  }
 ],
 "metadata": {
  "kernelspec": {
   "display_name": "Python 3",
   "language": "python",
   "name": "python3"
  },
  "language_info": {
   "codemirror_mode": {
    "name": "ipython",
    "version": 3
   },
   "file_extension": ".py",
   "mimetype": "text/x-python",
   "name": "python",
   "nbconvert_exporter": "python",
   "pygments_lexer": "ipython3",
   "version": "3.7.6"
  }
 },
 "nbformat": 4,
 "nbformat_minor": 4
}
