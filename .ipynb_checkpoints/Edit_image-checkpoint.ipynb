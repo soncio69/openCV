{
 "cells": [
  {
   "cell_type": "markdown",
   "metadata": {},
   "source": [
    "#### Funzionalità di base\n",
    "\n",
    "Tenere presente che, di base, OpenCV utilizza BGR anzichè RGB"
   ]
  },
  {
   "cell_type": "code",
   "execution_count": 15,
   "metadata": {},
   "outputs": [
    {
     "data": {
      "text/plain": [
       "-1"
      ]
     },
     "execution_count": 15,
     "metadata": {},
     "output_type": "execute_result"
    }
   ],
   "source": [
    "import cv2\n",
    "import numpy as np\n",
    "\n",
    "img = cv2.imread(\"cattura.jpg\")\n",
    "kernel = np.ones((5,5), np.uint8) # Deve essere numeri dispari\n",
    "\n",
    "imgGray = cv2.cvtColor(img, cv2.COLOR_BGR2GRAY)   # modifica il colorspace: in  questo caso converte in scala di grigi\n",
    "imgBlur = cv2.GaussianBlur(imgGray,(7,7), 0)\n",
    "imgCanny = cv2.Canny(imgGray,100, 100)   # E' un edge detector . Utilizza il threshold passato nei  parametri  2 e 3\n",
    "imgDialation = cv2.dilate(imgCanny, kernel, iterations=1)  # Aumenta lo spessore in modo proporzionale al numero di iterations\n",
    "imgEroded = cv2.erode(imgDialation, kernel, iterations=1)\n",
    "\n",
    "cv2.imshow(\"gray\", imgGray)\n",
    "cv2.imshow(\"blur\", imgBlur)\n",
    "cv2.imshow(\"canny\", imgCanny)\n",
    "cv2.imshow(\"dilation\", imgDialation)\n",
    "cv2.imshow(\"eroded\", imgEroded)\n",
    "cv2.waitKey(0)"
   ]
  },
  {
   "cell_type": "code",
   "execution_count": null,
   "metadata": {},
   "outputs": [],
   "source": []
  }
 ],
 "metadata": {
  "kernelspec": {
   "display_name": "Python 3",
   "language": "python",
   "name": "python3"
  },
  "language_info": {
   "codemirror_mode": {
    "name": "ipython",
    "version": 3
   },
   "file_extension": ".py",
   "mimetype": "text/x-python",
   "name": "python",
   "nbconvert_exporter": "python",
   "pygments_lexer": "ipython3",
   "version": "3.7.6"
  }
 },
 "nbformat": 4,
 "nbformat_minor": 4
}
